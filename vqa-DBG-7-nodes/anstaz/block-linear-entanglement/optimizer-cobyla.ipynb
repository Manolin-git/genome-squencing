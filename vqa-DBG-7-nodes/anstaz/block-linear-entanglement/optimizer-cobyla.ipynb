{
 "cells": [
  {
   "cell_type": "markdown",
   "metadata": {},
   "source": [
    "## Import everything we need"
   ]
  },
  {
   "cell_type": "code",
   "execution_count": 1,
   "metadata": {},
   "outputs": [],
   "source": [
    "from qiskit.circuit.library import TwoLocal, RealAmplitudes, EfficientSU2\n",
    "from qiskit import QuantumCircuit\n",
    "from qiskit.circuit import Parameter\n",
    "from qiskit_algorithms.minimum_eigensolvers import SamplingVQE\n",
    "from qiskit_aer import AerSimulator\n",
    "from qiskit.primitives import BackendSampler\n",
    "from qiskit.providers.options import Options\n",
    "from qiskit_algorithms.optimizers import SLSQP, COBYLA, ADAM, SPSA, QNSPSA, CG, GradientDescent, POWELL, NFT\n",
    "from qiskit.quantum_info import SparsePauliOp\n",
    "\n",
    "import numpy as np\n",
    "from tqdm import tqdm\n",
    "import pandas as pd\n",
    "from IPython.display import display, clear_output\n",
    "import matplotlib.pyplot as plt\n",
    "import networkx as nx\n",
    "from pyhobo import Binary, Hamiltonian"
   ]
  },
  {
   "cell_type": "markdown",
   "metadata": {},
   "source": [
    "## Setting up matplotlib"
   ]
  },
  {
   "cell_type": "code",
   "execution_count": 2,
   "metadata": {},
   "outputs": [],
   "source": [
    "import matplotlib as mpl\n",
    "import os\n",
    "\n",
    "# Configure matplotlib to use LaTeX\n",
    "mpl.rcParams['text.usetex'] = True\n",
    "# plt.rcParams['font.family'] = 'comfortaa'\n",
    "plt.rcParams['text.color'] = 'k'\n",
    "plt.rcParams['axes.labelcolor'] = 'k'\n",
    "plt.style.use('seaborn-v0_8')\n",
    "# plt.style.use('default')\n"
   ]
  },
  {
   "cell_type": "markdown",
   "metadata": {},
   "source": [
    "## Construct weight matrix "
   ]
  },
  {
   "cell_type": "code",
   "execution_count": 18,
   "metadata": {},
   "outputs": [
    {
     "name": "stdout",
     "output_type": "stream",
     "text": [
      "Number of qubits for nodes : 3\n",
      "Number of positions :  12\n",
      "Number of qubits required: 36\n",
      "      0     1     2     3     4     5     6\n",
      "0  58.5 -34.0  58.5  58.5  58.5  58.5  58.5\n",
      "1  58.5  58.5  58.5 -19.0  58.5  58.5  58.5\n",
      "2  58.5  58.5  58.5  58.5 -38.0  58.5  58.5\n",
      "3  58.5  58.5  58.5  58.5  58.5 -28.0  58.5\n",
      "4 -39.0 -11.0  58.5  58.5  58.5  58.5  58.5\n",
      "5  58.5  58.5  58.5  58.5  58.5  58.5 -30.0\n",
      "6  58.5  58.5 -32.0  58.5  58.5  58.5  58.5\n"
     ]
    }
   ],
   "source": [
    "# Read the Excel file\n",
    "df = pd.read_excel(\"data\\weight_matrix.xlsx\", index_col=0)\n",
    "\n",
    "# Read the Excel file\n",
    "weight_matrix_df = pd.read_excel(\"data\\weight_matrix.xlsx\", index_col=0)\n",
    "\n",
    "# Extract numerical values as a NumPy array\n",
    "weight_matrix_array = weight_matrix_df.values\n",
    "\n",
    "W = -np.array(weight_matrix_array,dtype = float)\n",
    "\n",
    "num_pos = 12 \n",
    "\n",
    "\n",
    "penality = 1.5*np.max(abs(W))\n",
    "\n",
    "for i in range(len(W)):\n",
    "    for j in range(len(W)):\n",
    "        if W[i,j] == 0:\n",
    "            W[i,j] = penality # + np.random.uniform()\n",
    "\n",
    "node = W.shape[0] + 1\n",
    "node_qubit = int(np.ceil(np.log2(node)))\n",
    "num_qubits = node_qubit*num_pos\n",
    "print('Number of qubits for nodes :', node_qubit)\n",
    "print('Number of positions : ',num_pos)\n",
    "print('Number of qubits required:', num_qubits)\n",
    "\n",
    "print(pd.DataFrame(W))"
   ]
  },
  {
   "cell_type": "markdown",
   "metadata": {},
   "source": [
    "## Construct the Hamiltonian using PyHOBO"
   ]
  },
  {
   "cell_type": "code",
   "execution_count": 19,
   "metadata": {},
   "outputs": [
    {
     "name": "stderr",
     "output_type": "stream",
     "text": [
      "100%|██████████| 11/11 [00:00<?, ?it/s]\n"
     ]
    },
    {
     "name": "stdout",
     "output_type": "stream",
     "text": [
      "                                        0         1\n",
      "0    IIIIIZIIIIIIIIIIIIIIIIIIIIIIIIIIIIII  1.937500\n",
      "1    IIIIZIIIIIIIIIIIIIIIIIIIIIIIIIIIIIII  0.718750\n",
      "2    IIIIZZIIIIIIIIIIIIIIIIIIIIIIIIIIIIII  3.453125\n",
      "3    IIIZIIIIIIIIIIIIIIIIIIIIIIIIIIIIIIII  0.750000\n",
      "4    IIIZIZIIIIIIIIIIIIIIIIIIIIIIIIIIIIII -1.296875\n",
      "..                                    ...       ...\n",
      "618  IIIIIIIIIIIIIIIIIIIIIIIIIIIIIIZZZIZZ  1.648438\n",
      "619  IIIIIIIIIIIIIIIIIIIIIIIIIIIIIIZZZZII -0.335938\n",
      "620  IIIIIIIIIIIIIIIIIIIIIIIIIIIIIIZZZZIZ -5.898438\n",
      "621  IIIIIIIIIIIIIIIIIIIIIIIIIIIIIIZZZZZI -3.945312\n",
      "622  IIIIIIIIIIIIIIIIIIIIIIIIIIIIIIZZZZZZ  1.679688\n",
      "\n",
      "[623 rows x 2 columns]\n"
     ]
    }
   ],
   "source": [
    "binary = Binary(num_nodes=node, num_positions=num_pos)\n",
    "\n",
    "γ = 2*penality  # penality for first node to be occupied\n",
    "δ = 2*penality  # penality for the continuity\n",
    "\n",
    "cost_function_terms = []\n",
    "\n",
    "for ti in tqdm(range(num_pos-1)):\n",
    "    for i in range(1,node):\n",
    "        for j in range(1,node):\n",
    "            cost_function_terms.append([W[i-1,j-1], [[i, ti], [j, ti+1]]])\n",
    "\n",
    "cost_function_terms.append([γ,[[0,0]]])\n",
    "\n",
    "for ti in range(num_pos-1):\n",
    "    cost_function_terms.append([δ,[[0,ti]]])\n",
    "    cost_function_terms.append([-δ,[[0,ti],[0,ti+1]]])\n",
    "\n",
    "H_op = Hamiltonian(binary, cost_function_terms)\n",
    "\n",
    "op = H_op.ham_op_str()\n",
    "print(pd.DataFrame(op))"
   ]
  },
  {
   "cell_type": "markdown",
   "metadata": {},
   "source": [
    "## Constructing reference state"
   ]
  },
  {
   "cell_type": "code",
   "execution_count": 20,
   "metadata": {},
   "outputs": [
    {
     "name": "stdout",
     "output_type": "stream",
     "text": [
      "['', 'AAA', 'AAG', 'AGA', 'AGT', 'GAA', 'GTA', 'TAG']\n",
      "{('GAA', 'AAG'): 11, ('GAA', 'AAA'): 39, ('AAG', 'AGT'): 19, ('AGT', 'GTA'): 28, ('AAA', 'AAG'): 34, ('GTA', 'TAG'): 30, ('TAG', 'AGA'): 32, ('AGA', 'GAA'): 38}\n",
      "The key with the minimum value is: ('GAA', 'AAG')\n",
      "The minimum value is: 11\n",
      "Source node : 5  Node next to source :  2\n"
     ]
    }
   ],
   "source": [
    "# Extract column names and convert to list\n",
    "read = df.columns.tolist()\n",
    "\n",
    "read.insert(0,'')\n",
    "print(read)\n",
    "\n",
    "\n",
    "## Finding source\n",
    "source_node_found = False\n",
    "\n",
    "# Is there a node without any in degree?\n",
    "for i in range(len(weight_matrix_array)):\n",
    "    if np.sum(weight_matrix_array[:,i]) == 0:\n",
    "        print(i)\n",
    "        source_node = i\n",
    "        source_node_found = True\n",
    "        break\n",
    "\n",
    "\n",
    "# If not, choose the one with minimum weight in degree!\n",
    "if not source_node_found:\n",
    "    # Initialize an empty dictionary\n",
    "    data_dict = {}\n",
    "\n",
    "    # Open and read the file\n",
    "    with open('data/edge_frequencies.txt', 'r') as file:\n",
    "        for line in file:\n",
    "            # Split the line into components\n",
    "            parts = line.strip().split()\n",
    "            key = (parts[0], parts[1])\n",
    "            value = int(parts[2])\n",
    "            data_dict[key] = value\n",
    "\n",
    "    # Display the dictionary\n",
    "    print(data_dict)\n",
    "\n",
    "    # Find the key with the minimum value\n",
    "    min_key = min(data_dict, key=lambda k: data_dict[k])\n",
    "    min_value = data_dict[min_key]\n",
    "\n",
    "    # Display the key and its value\n",
    "    print(f\"The key with the minimum value is: {min_key}\")\n",
    "    print(f\"The minimum value is: {min_value}\")\n",
    "\n",
    "    for i in range(len(read)):\n",
    "        if min_key[0] == read[i]:\n",
    "            source_node = i\n",
    "        if min_key[1] == read[i]:\n",
    "            next_to_source = i\n",
    "\n",
    "    print('Source node :', source_node,' Node next to source : ', next_to_source)"
   ]
  },
  {
   "cell_type": "code",
   "execution_count": 7,
   "metadata": {},
   "outputs": [
    {
     "data": {
      "text/html": [
       "<pre style=\"word-wrap: normal;white-space: pre;background: #fff0;line-height: 1.1;font-family: &quot;Courier New&quot;,Courier,monospace\">           \n",
       " q_0: ─────\n",
       "           \n",
       " q_1: ─────\n",
       "           \n",
       " q_2: ─────\n",
       "           \n",
       " q_3: ─────\n",
       "           \n",
       " q_4: ─────\n",
       "           \n",
       " q_5: ─────\n",
       "           \n",
       " q_6: ─────\n",
       "           \n",
       " q_7: ─────\n",
       "           \n",
       " q_8: ─────\n",
       "           \n",
       " q_9: ─────\n",
       "           \n",
       "q_10: ─────\n",
       "           \n",
       "q_11: ─────\n",
       "           \n",
       "q_12: ─────\n",
       "           \n",
       "q_13: ─────\n",
       "           \n",
       "q_14: ─────\n",
       "           \n",
       "q_15: ─────\n",
       "           \n",
       "q_16: ─────\n",
       "           \n",
       "q_17: ─────\n",
       "           \n",
       "q_18: ─────\n",
       "           \n",
       "q_19: ─────\n",
       "           \n",
       "q_20: ─────\n",
       "           \n",
       "q_21: ─────\n",
       "           \n",
       "q_22: ─────\n",
       "           \n",
       "q_23: ─────\n",
       "           \n",
       "q_24: ─────\n",
       "           \n",
       "q_25: ─────\n",
       "           \n",
       "q_26: ─────\n",
       "           \n",
       "q_27: ─────\n",
       "           \n",
       "q_28: ─────\n",
       "           \n",
       "q_29: ─────\n",
       "           \n",
       "q_30: ─────\n",
       "      ┌───┐\n",
       "q_31: ┤ X ├\n",
       "      └───┘\n",
       "q_32: ─────\n",
       "      ┌───┐\n",
       "q_33: ┤ X ├\n",
       "      └───┘\n",
       "q_34: ─────\n",
       "      ┌───┐\n",
       "q_35: ┤ X ├\n",
       "      └───┘</pre>"
      ],
      "text/plain": [
       "           \n",
       " q_0: ─────\n",
       "           \n",
       " q_1: ─────\n",
       "           \n",
       " q_2: ─────\n",
       "           \n",
       " q_3: ─────\n",
       "           \n",
       " q_4: ─────\n",
       "           \n",
       " q_5: ─────\n",
       "           \n",
       " q_6: ─────\n",
       "           \n",
       " q_7: ─────\n",
       "           \n",
       " q_8: ─────\n",
       "           \n",
       " q_9: ─────\n",
       "           \n",
       "q_10: ─────\n",
       "           \n",
       "q_11: ─────\n",
       "           \n",
       "q_12: ─────\n",
       "           \n",
       "q_13: ─────\n",
       "           \n",
       "q_14: ─────\n",
       "           \n",
       "q_15: ─────\n",
       "           \n",
       "q_16: ─────\n",
       "           \n",
       "q_17: ─────\n",
       "           \n",
       "q_18: ─────\n",
       "           \n",
       "q_19: ─────\n",
       "           \n",
       "q_20: ─────\n",
       "           \n",
       "q_21: ─────\n",
       "           \n",
       "q_22: ─────\n",
       "           \n",
       "q_23: ─────\n",
       "           \n",
       "q_24: ─────\n",
       "           \n",
       "q_25: ─────\n",
       "           \n",
       "q_26: ─────\n",
       "           \n",
       "q_27: ─────\n",
       "           \n",
       "q_28: ─────\n",
       "           \n",
       "q_29: ─────\n",
       "           \n",
       "q_30: ─────\n",
       "      ┌───┐\n",
       "q_31: ┤ X ├\n",
       "      └───┘\n",
       "q_32: ─────\n",
       "      ┌───┐\n",
       "q_33: ┤ X ├\n",
       "      └───┘\n",
       "q_34: ─────\n",
       "      ┌───┐\n",
       "q_35: ┤ X ├\n",
       "      └───┘"
      ]
     },
     "execution_count": 7,
     "metadata": {},
     "output_type": "execute_result"
    }
   ],
   "source": [
    "ref = QuantumCircuit(num_qubits)\n",
    "\n",
    "source_bit = Binary._num2bin(source_node,node_qubit)\n",
    "next_to_source_bit = Binary._num2bin(next_to_source,node_qubit)\n",
    "\n",
    "for i in range(len(source_bit)):\n",
    "    if source_bit[i] == 1:\n",
    "        ref.x(num_qubits-1-i)\n",
    "    if next_to_source_bit[i] == 1:\n",
    "        ref.x(num_qubits-1-node_qubit-i)\n",
    "\n",
    "# ref.draw()"
   ]
  },
  {
   "cell_type": "markdown",
   "metadata": {},
   "source": [
    "## Variational form & anstaz "
   ]
  },
  {
   "cell_type": "code",
   "execution_count": 21,
   "metadata": {},
   "outputs": [],
   "source": [
    "ansatz = QuantumCircuit(num_qubits)\n",
    "\n",
    "for i in range(num_pos-2):\n",
    "    ansatz.append(EfficientSU2(node_qubit,su2_gates=[\"rx\", \"ry\"], reps=1, parameter_prefix='φ' + str(i) , insert_barriers=True).decompose(), range(i*node_qubit,(i+1)*node_qubit))\n",
    "\n",
    "ansatz = ref.compose(ansatz)\n",
    "\n",
    "ansatz.decompose().draw()"
   ]
  },
  {
   "cell_type": "markdown",
   "metadata": {},
   "source": [
    "## Optimization loop"
   ]
  },
  {
   "cell_type": "code",
   "execution_count": 22,
   "metadata": {},
   "outputs": [
    {
     "data": {
      "image/png": "[encoded data removed]",
      "text/plain": [
       "<Figure size 600x400 with 1 Axes>"
      ]
     },
     "metadata": {},
     "output_type": "display_data"
    },
    {
     "name": "stdout",
     "output_type": "stream",
     "text": [
      "101010010100011101001010110111011101\n"
     ]
    }
   ],
   "source": [
    "Hop = SparsePauliOp.from_list(op)\n",
    "\n",
    "## Optimizer : SPSA\n",
    "# backend = Aer.get_backend('qasm_simulator')\n",
    "# backend = AerSimulator(method = 'matrix_product_state')\n",
    "backend = AerSimulator(method = 'matrix_product_state')\n",
    "\n",
    "# backend = QasmSimulator(method='matrix_product_state')\n",
    "options = Options()\n",
    "options.shots = int(2**12) # 4000\n",
    "sampler = BackendSampler(backend=backend)\n",
    "\n",
    "# set classical optimizer\n",
    "optimizer = COBYLA(maxiter=1000) # SPSA()\n",
    "\n",
    "counts = []\n",
    "values = []\n",
    "params = []\n",
    "\n",
    "# Function to plot energy after each iteration\n",
    "def plot_energy(counts, values):\n",
    "    fig, ax = plt.subplots(figsize = (6,4))\n",
    "    ax.plot(counts, values, marker='o', linestyle='-',color = '#C06C84',markerfacecolor='#355C7D',markersize = 5)\n",
    "    plt.tick_params(top=True, left=True, right=True, bottom=True,direction=\"in\",axis='both', which='both', labelsize=15)\n",
    "    font2 = {'family':'comfortaa','color':'black','size':18}\n",
    "    ax.set_xlabel('Iteration',fontdict = font2)\n",
    "    ax.set_ylabel('Energy',fontdict = font2)\n",
    "    # plt.title('Energy vs Iteration')\n",
    "    ax.grid(zorder=0)\n",
    "    plt.show()\n",
    "\n",
    "\n",
    "def store_intermediate_result(eval_count, parameters, mean, std):\n",
    "    counts.append(eval_count)\n",
    "    values.append(np.real(mean))\n",
    "    # print(eval_count, \"energy_exp = \", np.real(mean))\n",
    "    params.append(parameters)\n",
    "    # Plot energy after each iteration\n",
    "    clear_output(wait=True)\n",
    "    plot_energy(counts, values)\n",
    "\n",
    "# initialize VQE using CVaR with alpha = 0.1\n",
    "\n",
    "vqe = SamplingVQE(\n",
    "    sampler,\n",
    "    ansatz=ansatz,\n",
    "    optimizer=optimizer,\n",
    "#     aggregation=0.1,\n",
    "#     initial_point = params,\n",
    "    callback=store_intermediate_result,\n",
    "    )\n",
    "\n",
    "# Estimator approach\n",
    "\n",
    "# vqe = VQE(\n",
    "#     sampler,\n",
    "#     ansatz=ansatz,\n",
    "#     optimizer=optimizer,\n",
    "# #     aggregation=0.1,\n",
    "# #     initial_point = params,\n",
    "#     callback=store_intermediate_result,\n",
    "#     )\n",
    "\n",
    "raw_result = vqe.compute_minimum_eigenvalue(Hop) \n",
    "print(raw_result.best_measurement['bitstring'])\n",
    "\n",
    "val = raw_result.best_measurement['bitstring']\n",
    "# np.savetxt('energy_spsa.txt',np.array(values))\n",
    "\n",
    "# Define the filename\n",
    "# filename = 'bit_spsa.txt'\n",
    "\n",
    "# Open the file in write mode and save the string\n",
    "# with open(filename, 'w') as file:\n",
    "#     file.write(val)\n"
   ]
  },
  {
   "cell_type": "markdown",
   "metadata": {},
   "source": [
    "## Checking the misalighments in the found solution"
   ]
  },
  {
   "cell_type": "code",
   "execution_count": 23,
   "metadata": {},
   "outputs": [
    {
     "name": "stdout",
     "output_type": "stream",
     "text": [
      "No of violations  3\n"
     ]
    }
   ],
   "source": [
    "def violations(val):\n",
    "    vio = 0 # number of misalighments\n",
    "    num_seq = [] # sequence associated with quantum bit (val)\n",
    "\n",
    "    for i in range(num_pos):\n",
    "        num_seq.append(int(val[i*node_qubit:node_qubit*i+node_qubit],2))\n",
    "\n",
    "    for i in range(num_pos-1):\n",
    "        if W[num_seq[i]-1,num_seq[i+1]-1] >= 0 and num_seq[i] > 0 and num_seq[i+1] > 0:\n",
    "            vio +=1\n",
    "\n",
    "    return vio,num_seq\n",
    "\n",
    "vio,num_seq = violations(val)\n",
    "\n",
    "print('No of violations ',vio)\n"
   ]
  },
  {
   "cell_type": "markdown",
   "metadata": {},
   "source": [
    "## Visualizing using graph"
   ]
  },
  {
   "cell_type": "code",
   "execution_count": 24,
   "metadata": {},
   "outputs": [
    {
     "data": {
      "text/plain": [
       "[('GAA', 'AAG'),\n",
       " ('AAG', 'AAG'),\n",
       " ('AAG', 'AGT'),\n",
       " ('AGT', 'AGA'),\n",
       " ('AGA', 'GAA'),\n",
       " ('GAA', 'AAA'),\n",
       " ('AAA', 'AAG'),\n",
       " ('AAG', 'GTA'),\n",
       " ('GTA', 'TAG'),\n",
       " ('TAG', 'AGA'),\n",
       " ('AGA', 'GAA')]"
      ]
     },
     "execution_count": 24,
     "metadata": {},
     "output_type": "execute_result"
    }
   ],
   "source": [
    "path = []\n",
    "\n",
    "for i in range(num_pos-1):\n",
    "    path.append((read[num_seq[i]],read[num_seq[i+1]]))\n",
    "\n",
    "path"
   ]
  },
  {
   "cell_type": "code",
   "execution_count": 25,
   "metadata": {},
   "outputs": [
    {
     "data": {
      "image/png": "[encoded data removed]",
      "text/plain": [
       "<Figure size 600x600 with 1 Axes>"
      ]
     },
     "metadata": {},
     "output_type": "display_data"
    }
   ],
   "source": [
    "# Create a directed graph\n",
    "G = nx.DiGraph()\n",
    "\n",
    "# Add nodes and edges to the graph\n",
    "G.add_nodes_from(read)\n",
    "G.add_edges_from(path)\n",
    "\n",
    "# Draw the graph\n",
    "plt.figure(figsize=(6, 6))\n",
    "pos = nx.circular_layout(G)  # Positions for all nodes\n",
    "nx.draw(G, pos, with_labels=True, node_size=700, node_color=\"#E7EB90\", font_size=10, font_weight=\"bold\", arrowstyle=\"-|>\", arrowsize=20)\n",
    "\n",
    "# Draw edge labels\n",
    "\n",
    "# nx.draw_networkx_edge_labels(G, pos, font_color=\"red\", font_size=8)\n",
    "\n",
    "# plt.title(\"Graph Visualization\")\n",
    "plt.show()"
   ]
  },
  {
   "cell_type": "markdown",
   "metadata": {},
   "source": [
    "## Are there other bits with zero violations?"
   ]
  },
  {
   "cell_type": "code",
   "execution_count": 26,
   "metadata": {},
   "outputs": [],
   "source": [
    "dat = raw_result.eigenstate\n",
    "dat1 = list(dat.keys())\n",
    "nq = num_qubits # op.num_qubits\n",
    "b = []\n",
    "for i in range(len(dat1)):\n",
    "    b.append(format(dat1[i],'0>'+str(nq)+'b'))\n",
    "\n",
    "possible_soln = []\n",
    "\n",
    "for i in range(len(b)):\n",
    "    objvio, numseq = violations(b[i])\n",
    "    if objvio == 0:\n",
    "        # print(objvio)\n",
    "        possible_soln.append(b[i])\n",
    "        \n",
    "for ii in range(len(possible_soln)):\n",
    "\n",
    "    currvio, curr_seq = violations(possible_soln[ii])\n",
    "\n",
    "    path = []\n",
    "\n",
    "    for i in range(num_pos-1):\n",
    "        path.append((read[curr_seq[i]],read[curr_seq[i+1]]))\n",
    "    \n",
    "    print(path)"
   ]
  },
  {
   "cell_type": "code",
   "execution_count": null,
   "metadata": {},
   "outputs": [],
   "source": []
  }
 ],
 "metadata": {
  "kernelspec": {
   "display_name": "ibm_quantum",
   "language": "python",
   "name": "python3"
  },
  "language_info": {
   "codemirror_mode": {
    "name": "ipython",
    "version": 3
   },
   "file_extension": ".py",
   "mimetype": "text/x-python",
   "name": "python",
   "nbconvert_exporter": "python",
   "pygments_lexer": "ipython3",
   "version": "3.11.9"
  }
 },
 "nbformat": 4,
 "nbformat_minor": 2
}
